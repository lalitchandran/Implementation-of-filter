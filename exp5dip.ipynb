{
 "cells": [
  {
   "cell_type": "code",
   "execution_count": 1,
   "id": "c9162dde-f967-4d5d-ab11-ed19fc6986c1",
   "metadata": {},
   "outputs": [],
   "source": [
    "# S lalit chandran\n",
    "# 212223240077"
   ]
  },
  {
   "cell_type": "code",
   "execution_count": null,
   "id": "586519ff-d60e-4a43-9540-d23682609f5f",
   "metadata": {},
   "outputs": [],
   "source": [
    "import cv2\n",
    "import matplotlib.pyplot as plt\n",
    "import numpy as np\n",
    "image1=cv2.imread(\"vijay.jpg\")\n",
    "image2=cv2.cvtColor(image1,cv2.COLOR_BGR2RGB)\n",
    "kernel=np.ones((11,11),np.float32)/169\n",
    "image3=cv2.filter2D(image2,-1,kernel)\n",
    "plt.figure(figsize=(9,9))\n",
    "plt.subplot(1,2,1)\n",
    "plt.imshow(image2)\n",
    "plt.title(\"Original Image\")\n",
    "plt.axis(\"off\")\n",
    "plt.subplot(1,2,2)\n",
    "plt.imshow(image3)\n",
    "plt.title(\"Average Filter Image\")\n",
    "plt.axis(\"off\")\n",
    "plt.show()"
   ]
  }
 ],
 "metadata": {
  "kernelspec": {
   "display_name": "Python 3 (ipykernel)",
   "language": "python",
   "name": "python3"
  },
  "language_info": {
   "codemirror_mode": {
    "name": "ipython",
    "version": 3
   },
   "file_extension": ".py",
   "mimetype": "text/x-python",
   "name": "python",
   "nbconvert_exporter": "python",
   "pygments_lexer": "ipython3",
   "version": "3.12.4"
  }
 },
 "nbformat": 4,
 "nbformat_minor": 5
}
